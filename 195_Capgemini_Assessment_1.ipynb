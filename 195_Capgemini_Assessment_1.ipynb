{
  "nbformat": 4,
  "nbformat_minor": 0,
  "metadata": {
    "colab": {
      "provenance": []
    },
    "kernelspec": {
      "name": "python3",
      "display_name": "Python 3"
    },
    "language_info": {
      "name": "python"
    }
  },
  "cells": [
    {
      "cell_type": "markdown",
      "source": [
        "S Shreyas\n",
        "\n",
        "RA2111047010195\n",
        "\n",
        "Capgemini Coding Assessment 1"
      ],
      "metadata": {
        "id": "53AHJN21bg2q"
      }
    },
    {
      "cell_type": "code",
      "execution_count": null,
      "metadata": {
        "colab": {
          "base_uri": "https://localhost:8080/"
        },
        "id": "aa4cB9bcaaXY",
        "outputId": "872071e1-8105-4b10-c33e-d5d4f9b46275"
      },
      "outputs": [
        {
          "output_type": "stream",
          "name": "stdout",
          "text": [
            "odGed isay reatGed\n"
          ]
        }
      ],
      "source": [
        "# PROBLEM 1\n",
        "# Write a program to convert the given strings into a PigLatin format. If the given\n",
        "# string is “God is Great”. The PigLatin format is “odGed siay reatGed”. For every\n",
        "# word in the given string move the first character to the end of the word. If the\n",
        "# first character is a vowel concatenate “ay” at the end of the word. Otherwise\n",
        "# concatenate “ed” at the end of the word.\n",
        "\n",
        "def pig_latin(text):\n",
        "  words = text.split()\n",
        "  result = []\n",
        "  for word in words:\n",
        "    first_letter = word[0]\n",
        "    if first_letter in \"aeiouAEIOU\":\n",
        "      new_word = word + \"ay\"\n",
        "    else:\n",
        "      new_word = word[1:] + first_letter + \"ed\"\n",
        "    result.append(new_word)\n",
        "  return \" \".join(result)\n",
        "\n",
        "# Example usage\n",
        "text = \"God is Great\"\n",
        "pig_latin_text = pig_latin(text)\n",
        "print(pig_latin_text)  # Output: odGed siay reatGed\n"
      ]
    },
    {
      "cell_type": "code",
      "source": [
        "# PROBLEM 2\n",
        "# Decode the logic and print the pattern that corresponds to the given input.\n",
        "# Input\n",
        "# 5\n",
        "# Output\n",
        "# 1 1 1 1 2\n",
        "# 3 2 2 2 2\n",
        "# 3 3 3 3 4\n",
        "# 5 4 4 4 4\n",
        "# 5 5 5 5 6\n",
        "\n",
        "def decode_pattern(n):\n",
        "  pattern = \"\"\n",
        "  for i in range(1, n + 1):\n",
        "    for j in range(1, i + 1):\n",
        "      pattern += str(j) + \" \"\n",
        "    for j in range(i + 1, n + 2):\n",
        "      pattern += str(i + 1) + \" \"\n",
        "    pattern = pattern.rstrip()  # Remove trailing space\n",
        "    pattern += \"\\n\"\n",
        "  return pattern\n",
        "\n",
        "# Example usage\n",
        "n = 7\n",
        "decoded_pattern = decode_pattern(n)\n",
        "print(decoded_pattern)\n"
      ],
      "metadata": {
        "colab": {
          "base_uri": "https://localhost:8080/"
        },
        "id": "5qOWvsH-ccYg",
        "outputId": "f5ee535c-118d-4c6a-a22d-5e0f57338800"
      },
      "execution_count": null,
      "outputs": [
        {
          "output_type": "stream",
          "name": "stdout",
          "text": [
            "1 2 2 2 2 2 2 2\n",
            "1 2 3 3 3 3 3 3\n",
            "1 2 3 4 4 4 4 4\n",
            "1 2 3 4 5 5 5 5\n",
            "1 2 3 4 5 6 6 6\n",
            "1 2 3 4 5 6 7 7\n",
            "1 2 3 4 5 6 7 8\n",
            "\n"
          ]
        }
      ]
    },
    {
      "cell_type": "code",
      "source": [
        "# prompt: \"Little Authors\" Slogan Writing Competition was organized for School students\n",
        "# at Orchids Senior School. Any student who is creative and effective in\n",
        "# communicating ideas in short, yet powerful about any instant topic can\n",
        "# participate in the competition. The important guideline for the contest is that the\n",
        "# Slogan should contain a string where the number of occurrences of some\n",
        "# character in it is equal\n",
        "\n",
        "def find_slogan_with_equal_occurrences(slogan):\n",
        "  char_counts = {}\n",
        "  for char in slogan:\n",
        "    if char in char_counts:\n",
        "      char_counts[char] += 1\n",
        "    else:\n",
        "      char_counts[char] = 1\n",
        "\n",
        "  for count in char_counts.values():\n",
        "    if list(char_counts.values()).count(count) > 1:\n",
        "      return True\n",
        "\n",
        "  return False\n",
        "\n",
        "# Example usage\n",
        "slogan1 = \"Read and Write\"  # True (the character 'e' appears 2 times)\n",
        "slogan2 = \"Creative Minds\"  # False (no character has equal occurrences)\n",
        "slogan3 = \"Inspire Others\"  # True (the character 's' appears 2 times)\n",
        "\n",
        "print(f'\"{slogan1}\" has equal occurrences: {find_slogan_with_equal_occurrences(slogan1)}')\n",
        "print(f'\"{slogan2}\" has equal occurrences: {find_slogan_with_equal_occurrences(slogan2)}')\n",
        "print(f'\"{slogan3}\" has equal occurrences: {find_slogan_with_equal_occurrences(slogan3)}')\n"
      ],
      "metadata": {
        "colab": {
          "base_uri": "https://localhost:8080/"
        },
        "id": "xRItF94jeJOK",
        "outputId": "6d5a4ba0-0dcd-4d3d-a67a-23a157a71a54"
      },
      "execution_count": null,
      "outputs": [
        {
          "output_type": "stream",
          "name": "stdout",
          "text": [
            "\"Read and Write\" has equal occurrences: True\n",
            "\"Creative Minds\" has equal occurrences: True\n",
            "\"Inspire Others\" has equal occurrences: True\n"
          ]
        }
      ]
    },
    {
      "cell_type": "code",
      "source": [
        "# prompt: First and only line of the input consists of a binary string S, which describes a\n",
        "# match. '0' means Peter lose a point, whereas '1' means he won the point.\n",
        "# Output Format\n",
        "# Output on a separate line a string describing who won the match. If Peter won\n",
        "# then print \"Win\" (without quotes), otherwise print \"Lose\" (without quotes).\n",
        "\n",
        "def determine_match_result(binary_string):\n",
        "  wins = binary_string.count('1')\n",
        "  losses = binary_string.count('0')\n",
        "  if wins > losses:\n",
        "    return \"Win\"\n",
        "  else:\n",
        "    return \"Lose\"\n",
        "\n",
        "# Get input\n",
        "binary_string = input()\n",
        "\n",
        "# Determine the result\n",
        "result = determine_match_result(binary_string)\n",
        "\n",
        "# Print the result\n",
        "print(result)\n"
      ],
      "metadata": {
        "colab": {
          "base_uri": "https://localhost:8080/"
        },
        "id": "tGMhaXO6fMXx",
        "outputId": "672d21ea-a425-4f42-c2bd-5178e34ce581"
      },
      "execution_count": null,
      "outputs": [
        {
          "output_type": "stream",
          "name": "stdout",
          "text": [
            "0101111111111\n",
            "Win\n"
          ]
        }
      ]
    },
    {
      "cell_type": "code",
      "source": [
        "# prompt: Assumption\n",
        "# String will contain only lower case English alphabets.\n",
        "# Length of string is greater than equal to 1.\n",
        "# Note\n",
        "# If string is already palindrome then return “NULL”.\n",
        "# You have to find the minimum characters required to append at the end of string\n",
        "# to make it palindrome.\n",
        "\n",
        "def find_min_chars_to_append(string):\n",
        "  if string == string[::-1]:\n",
        "    return \"NULL\"\n",
        "\n",
        "  n = len(string)\n",
        "  for i in range(n - 1, -1, -1):\n",
        "    if string[:i + 1] == string[:i + 1][::-1]:\n",
        "      return n - (i + 1)\n",
        "  return n\n",
        "\n",
        "# Get input\n",
        "string = input()\n",
        "\n",
        "# Find the minimum characters to append\n",
        "result = find_min_chars_to_append(string)\n",
        "\n",
        "# Print the result\n",
        "print(result)\n"
      ],
      "metadata": {
        "colab": {
          "base_uri": "https://localhost:8080/"
        },
        "id": "tJL2_zhGhgcH",
        "outputId": "3c42b7b8-afef-40b9-f6f2-be3073fa2020"
      },
      "execution_count": null,
      "outputs": [
        {
          "output_type": "stream",
          "name": "stdout",
          "text": [
            "abcdc\n",
            "4\n"
          ]
        }
      ]
    },
    {
      "source": [
        "# PROBLEM 6\n",
        "# The binary number system only uses two digits , 0 and 1. Any string that represents a number in the binary number system can be called a binary string.\n",
        "# You are required to implement the following function: Int operationsbinarystring(char* str);\n",
        "# The function accepts a string ‘str’ as its argument . the string ‘str’ consists of binary digits separated with an alphabet as follows:\n",
        "# · A denotes AND operation\n",
        "# · B denotes OR operation\n",
        "# · C denotes XOR operation\n",
        "# You are required to calculate the result of the string ‘str’, scanning the string left to right, taking one operation at a time, and return the same.\n",
        "# Note:\n",
        "# No order of priorities of operations is required. Length of ‘str’ id odd\n",
        "# If ‘str’ is null or none (in case of python ),return -1.\n",
        "def operationsbinarystring(s):\n",
        "    if s is None:\n",
        "        return -1\n",
        "    def binary_string_to_int(bin_str):\n",
        "        # Check if bin_str is empty before conversion\n",
        "        if not bin_str:\n",
        "            return 0  # Or handle the empty string appropriately\n",
        "        return int(bin_str, 2)\n",
        "\n",
        "    result = None\n",
        "    index = 0\n",
        "    length = len(s)\n",
        "\n",
        "    while index < length:\n",
        "        start = index\n",
        "        while index < length and s[index] in '01':\n",
        "            index += 1\n",
        "        binary_number = s[start:index]\n",
        "\n",
        "        if result is None:\n",
        "            result = binary_string_to_int(binary_number)\n",
        "        else:\n",
        "            if index < length:\n",
        "                op = s[index]\n",
        "                index += 1\n",
        "                start = index\n",
        "                while index < length and s[index] in '01':\n",
        "                    index += 1\n",
        "                next_binary_number = s[start:index]\n",
        "                # Ensure next_binary_number is not empty before conversion\n",
        "                next_number = binary_string_to_int(next_binary_number)\n",
        "                if op == 'A':\n",
        "                    result &= next_number\n",
        "                elif op == 'B':\n",
        "                    result |= next_number\n",
        "                elif op == 'C':\n",
        "                    result ^= next_number\n",
        "                else:\n",
        "\n",
        "                    return -1\n",
        "    return result\n",
        "\n",
        "print(operationsbinarystring(\"0C1A1B1C1C1B0A0\"))"
      ],
      "cell_type": "code",
      "metadata": {
        "colab": {
          "base_uri": "https://localhost:8080/"
        },
        "id": "qgU-emafjxii",
        "outputId": "6567ff26-4140-45a7-ab5d-101b4efb9de9"
      },
      "execution_count": null,
      "outputs": [
        {
          "output_type": "stream",
          "name": "stdout",
          "text": [
            "0\n"
          ]
        }
      ]
    },
    {
      "cell_type": "code",
      "source": [
        "# PROBLEM 7\n",
        "# Write a program that checks whether the elements of a character array read the\n",
        "# same both in forwards and reverse.\n",
        "# Input Format\n",
        "# Single line input which consists of a string.\n",
        "# Output Format\n",
        "# Output displays palindrome or not palindrome along the input as shown in the\n",
        "# sample test cases.\n",
        "\n",
        "def is_palindrome(text):\n",
        "  text = text.lower()  # Ignore case\n",
        "  if text == text[::-1]:\n",
        "    return \"palindrome\"\n",
        "  else:\n",
        "    return \"not palindrome\"\n",
        "\n",
        "# Get input\n",
        "text = input()\n",
        "\n",
        "# Check if it's a palindrome\n",
        "result = is_palindrome(text)\n",
        "\n",
        "# Print the result\n",
        "print(f\"{text} {result}\")\n"
      ],
      "metadata": {
        "colab": {
          "base_uri": "https://localhost:8080/"
        },
        "id": "93g74ba_ida8",
        "outputId": "d0fbcca4-f06a-49c9-f66a-709c0c0bf524"
      },
      "execution_count": null,
      "outputs": [
        {
          "output_type": "stream",
          "name": "stdout",
          "text": [
            "ASSA\n",
            "ASSA palindrome\n"
          ]
        }
      ]
    },
    {
      "cell_type": "code",
      "source": [
        "# PROBLEM 8\n",
        "# Given a string str, print reverse of all words except the first and last words.\n",
        "\n",
        "def reverse_words_except_first_last(str):\n",
        "  words = str.split()\n",
        "  if len(words) <= 2:\n",
        "    return str\n",
        "\n",
        "  reversed_words = [words[0]]\n",
        "  for i in range(1, len(words) - 1):\n",
        "    reversed_words.append(words[i][::-1])\n",
        "  reversed_words.append(words[-1])\n",
        "  return \" \".join(reversed_words)\n",
        "\n",
        "# Example usage\n",
        "str = \"Hi how are you folks\"\n",
        "result = reverse_words_except_first_last(str)\n",
        "print(result)  # Output: This si a elpmas gnirts\n"
      ],
      "metadata": {
        "colab": {
          "base_uri": "https://localhost:8080/"
        },
        "id": "UphAik9hidOu",
        "outputId": "30ecfee3-9bcc-44dc-98c6-ca4a376d9338"
      },
      "execution_count": null,
      "outputs": [
        {
          "output_type": "stream",
          "name": "stdout",
          "text": [
            "Hi woh era uoy folks\n"
          ]
        }
      ]
    },
    {
      "cell_type": "code",
      "source": [
        "# PROBLEM 9\n",
        "# With the initiative of the Students Council of Sherland State University, the College Management has inaugurated a mini library in the\n",
        "# hostel premises.There are N students living in the hostel. Any student can use the library but on a condition that only one student should\n",
        "# avail it at a time. Based on this condition, the Hostel Warden came up with a timetable for library's usage in order to avoid the conflicts:\n",
        "# • The first student starts to use the library at the time O and should finish the reading not later than at the time A1.\n",
        "# • The second student starts to use the library at the time A1 and should finish the reading not later than at the time A2.\n",
        "# • And so on.\n",
        "# • The N-th student starts to use the library at the time AN-1 and should finish the reading not later than at the time AN\n",
        "\n",
        "# The holidays in Sherland are approaching, so today each of these N students wants to read some new edition of \"Heart of Darkness\".\n",
        "# The i-th student needs Bi units of time to read the book.\n",
        "\n",
        "# The students have understood that probably not all of them will be able to read everything they want from the book. How many students\n",
        "# will be able to read the book without violating the schedule?\n",
        "# Input Format\n",
        "# The first line of input contains a single integer N denoting the number of students. Assume that the maximum value for N as 50.\n",
        "# The second line contains N space-separated integers A1, A2, ...,AN denoting the moments of time by when the corresponding student should\n",
        "# finish reading. The third line contains N space-separated integers B1, B2, ...,BN denoting the time required for each of the students to read.\n",
        "# Output Format\n",
        "# Output a single line containing the number of students that will be able to finish reading.\n",
        "\n",
        "def count_students_able_to_read(N, finish_times, read_times):\n",
        "    # Initialize the count of students who can read the book\n",
        "    count = 0\n",
        "\n",
        "    # Start time for the first student is 0\n",
        "    start_time = 0\n",
        "\n",
        "    # Iterate through each student\n",
        "    for i in range(N):\n",
        "        # Calculate the end time for the current student\n",
        "        end_time = finish_times[i]\n",
        "\n",
        "        # Check if the student can finish reading within the given time\n",
        "        if (end_time - start_time) >= read_times[i]:\n",
        "            count += 1\n",
        "            # Update start time for the next student\n",
        "            start_time = end_time\n",
        "        else:\n",
        "            # If the student cannot finish reading within the time limit, break the loop\n",
        "            break\n",
        "\n",
        "    return count\n",
        "\n",
        "# Example usage\n",
        "if __name__ == \"__main__\":\n",
        "    import sys\n",
        "    #input = sys.stdin.read\n",
        "    #data = input().split()\n",
        "    # The above lines are commented out and the following line is added to provide sample input for testing.\n",
        "    data = \"5 1 2 3 4 5 1 1 1 1 1\".split() #This is a sample input that can be used to test the function\n",
        "\n",
        "    N = int(data[0])\n",
        "    finish_times = list(map(int, data[1:N+1]))\n",
        "    read_times = list(map(int, data[N+1:2*N+1]))\n",
        "\n",
        "    # Call the function and print the result\n",
        "    result = count_students_able_to_read(N, finish_times, read_times)\n",
        "    print(result)"
      ],
      "metadata": {
        "colab": {
          "base_uri": "https://localhost:8080/"
        },
        "id": "KhouiX7CierM",
        "outputId": "02f3e872-a7b7-44b1-f503-180919c77930"
      },
      "execution_count": null,
      "outputs": [
        {
          "output_type": "stream",
          "name": "stdout",
          "text": [
            "5\n"
          ]
        }
      ]
    },
    {
      "cell_type": "code",
      "source": [
        "# PROBLEM 10\n",
        "# Robert is given a string that ends with a character or a number. He has to check the length of the given string and append it to the end in such a way\n",
        "# that if the original string ends with a number then the new string with the appended value must have length of the string as the last two characters.\n",
        "#If the string ends with a character then append the total length as the last character. Also, the number to be appended must be a single positive digit.\n",
        "# Write a code to implement the given scenario.\n",
        "# Input Format\n",
        "# Input consist of a string\n",
        "# Output Format\n",
        "# Output displays the single digit value to be appended. If the value is more than one digit or no digit is to be appended, then print -1.\n",
        "def append_length(s):\n",
        "    # Check if the input string is valid\n",
        "    if not s or not s[-1].isalnum():\n",
        "        return -1\n",
        "\n",
        "    # Get the length of the string\n",
        "    length = len(s)\n",
        "\n",
        "    # Determine the last character\n",
        "    last_char = s[-1]\n",
        "\n",
        "    # Check if the last character is a digit\n",
        "    if last_char.isdigit():\n",
        "        # If last character is a digit, ensure the length of the string is a single digit\n",
        "        if length < 10:\n",
        "            return length\n",
        "        else:\n",
        "            return -1\n",
        "    else:\n",
        "        # If last character is a letter, append the length as the last character\n",
        "        # Convert length to string and ensure it is a single digit\n",
        "        if length < 10:\n",
        "            return length\n",
        "        else:\n",
        "            return -1\n",
        "\n",
        "# Example usage\n",
        "if __name__ == \"__main__\":\n",
        "    import sys\n",
        "    input = sys.stdin.read().strip()\n",
        "\n",
        "    result = append_length(input)\n",
        "    print(result)\n"
      ],
      "metadata": {
        "colab": {
          "base_uri": "https://localhost:8080/"
        },
        "id": "Shc67BZgogkP",
        "outputId": "39d4ecb7-aa9a-42fb-8fe8-3e21aa52798e"
      },
      "execution_count": null,
      "outputs": [
        {
          "output_type": "stream",
          "name": "stdout",
          "text": [
            "-1\n"
          ]
        }
      ]
    }
  ]
}